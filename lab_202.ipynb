{
  "nbformat": 4,
  "nbformat_minor": 0,
  "metadata": {
    "kernelspec": {
      "display_name": "Python 3",
      "language": "python",
      "name": "python3"
    },
    "language_info": {
      "codemirror_mode": {
        "name": "ipython",
        "version": 3
      },
      "file_extension": ".py",
      "mimetype": "text/x-python",
      "name": "python",
      "nbconvert_exporter": "python",
      "pygments_lexer": "ipython3",
      "version": "3.7.1"
    },
    "colab": {
      "name": "lab_202.ipynb",
      "provenance": [],
      "collapsed_sections": [],
      "include_colab_link": true
    }
  },
  "cells": [
    {
      "cell_type": "markdown",
      "metadata": {
        "id": "view-in-github",
        "colab_type": "text"
      },
      "source": [
        "<a href=\"https://colab.research.google.com/github/tuhuayuan/edhec_mooc2/blob/master/lab_202.ipynb\" target=\"_parent\"><img src=\"https://colab.research.google.com/assets/colab-badge.svg\" alt=\"Open In Colab\"/></a>"
      ]
    },
    {
      "cell_type": "code",
      "metadata": {
        "colab": {
          "base_uri": "https://localhost:8080/"
        },
        "id": "IE4EC322bOiv",
        "outputId": "10eafb0b-826c-49b7-cc1a-a5582ef4c145"
      },
      "source": [
        "# Clone or Update the mooc repo.\n",
        "%cd /content\n",
        "!git -C edhec_mooc2 pull || git clone -l -s https://github.com/tuhuayuan/edhec_mooc2.git edhec_mooc2\n",
        "%cd /content/edhec_mooc2"
      ],
      "execution_count": null,
      "outputs": [
        {
          "output_type": "stream",
          "text": [
            "/content\n",
            "Already up to date.\n",
            "/content/edhec_mooc2\n"
          ],
          "name": "stdout"
        }
      ]
    },
    {
      "cell_type": "markdown",
      "metadata": {
        "id": "VMb1sCgxbMqR"
      },
      "source": [
        "# Sharpe Style Analysis\n",
        "\n",
        "Sharpe Style Analysis is an elegant and simple decomposition exercise similar to what we did in the previous lab session, with the added constraint that the coefficients are all positive and add to 1.\n",
        "\n",
        "Therefore, the coefficients of performing style analysis on the observed return of a manager can be interpreted as weights in a portfolio of building blocks which together, _mimic_ that return series. The exercise can reveal drifts in a manager's style as well as provide insight into what the manager is likely doing to obtain the returns.\n",
        "\n",
        "\n",
        "# Performing Sharpe Style Analysis\n",
        "\n",
        "The key to obtaining the weights is our old friend, the quadriatic optimizer. We are asking the optimizer to find the weights that minimizes the square of the difference between the observed series and the returns of a benchmark portfolio that holds the explanatory building blocks in those same weights. This is equivalent to minimizing the _tracking error_ between the two return series.\n",
        "\n",
        "The code to implement this is a very slight modification of the `minimize_vol` we have previously implemented:\n",
        "\n",
        "```python                         \n",
        "def style_analysis(dependent_variable, explanatory_variables):\n",
        "    \"\"\"\n",
        "    Returns the optimal weights that minimizes the Tracking error between\n",
        "    a portfolio of the explanatory variables and the dependent variable\n",
        "    \"\"\"\n",
        "    n = explanatory_variables.shape[1]\n",
        "    init_guess = np.repeat(1/n, n)\n",
        "    bounds = ((0.0, 1.0),) * n # an N-tuple of 2-tuples!\n",
        "    # construct the constraints\n",
        "    weights_sum_to_1 = {'type': 'eq',\n",
        "                        'fun': lambda weights: np.sum(weights) - 1\n",
        "    }\n",
        "    solution = minimize(portfolio_tracking_error, init_guess,\n",
        "                       args=(dependent_variable, explanatory_variables,), method='SLSQP',\n",
        "                       options={'disp': False},\n",
        "                       constraints=(weights_sum_to_1,),\n",
        "                       bounds=bounds)\n",
        "    weights = pd.Series(solution.x, index=explanatory_variables.columns)\n",
        "    return weights\n",
        "```\n",
        "\n",
        "The Objective function is a very simple one-liner\n",
        "\n",
        "```python\n",
        "def portfolio_tracking_error(weights, ref_r, bb_r):\n",
        "    \"\"\"\n",
        "    returns the tracking error between the reference returns\n",
        "    and a portfolio of building block returns held with given weights\n",
        "    \"\"\"\n",
        "    return tracking_error(ref_r, (weights*bb_r).sum(axis=1))\n",
        "```"
      ]
    },
    {
      "cell_type": "code",
      "metadata": {
        "colab": {
          "base_uri": "https://localhost:8080/"
        },
        "id": "11mT8jBZbMqe",
        "outputId": "7de05c0a-7d3d-461a-d2e9-ae2508c68083"
      },
      "source": [
        "import numpy as np\n",
        "import pandas as pd\n",
        "\n",
        "import edhec_risk_kit_202 as erk\n",
        "\n",
        "%load_ext autoreload\n",
        "%autoreload 2\n"
      ],
      "execution_count": null,
      "outputs": [
        {
          "output_type": "stream",
          "text": [
            "/usr/local/lib/python3.7/dist-packages/statsmodels/tools/_testing.py:19: FutureWarning: pandas.util.testing is deprecated. Use the functions in the public API at pandas.testing instead.\n",
            "  import pandas.util.testing as tm\n"
          ],
          "name": "stderr"
        }
      ]
    },
    {
      "cell_type": "code",
      "metadata": {
        "id": "sQZ6-cDgbMqf"
      },
      "source": [
        "ind = erk.get_ind_returns()[\"2000\":]"
      ],
      "execution_count": null,
      "outputs": []
    },
    {
      "cell_type": "markdown",
      "metadata": {
        "id": "SDMKVo8FbMqi"
      },
      "source": [
        "Let's construct a manager that invests in 30% Beer, 50% in Smoke and 20% in other things that have an average return of 0% and an annualized vol of 15%"
      ]
    },
    {
      "cell_type": "code",
      "metadata": {
        "id": "b9bYuS6mbMqj"
      },
      "source": [
        "mgr_r = 0.3*ind[\"Beer\"] + .5*ind[\"Smoke\"] + 0.2*np.random.normal(scale=0.15/(12**.5), size=ind.shape[0])"
      ],
      "execution_count": null,
      "outputs": []
    },
    {
      "cell_type": "markdown",
      "metadata": {
        "id": "_i8bF4BdbMqk"
      },
      "source": [
        "Now, assume we knew absolutely nothing about this manager and all we observed was the returns. How could we tell what she was invested in?"
      ]
    },
    {
      "cell_type": "code",
      "metadata": {
        "id": "tT97_VIkbMqk"
      },
      "source": [
        "weights = erk.style_analysis(mgr_r, ind)*100"
      ],
      "execution_count": null,
      "outputs": []
    },
    {
      "cell_type": "code",
      "metadata": {
        "colab": {
          "base_uri": "https://localhost:8080/",
          "height": 329
        },
        "id": "joFdwCMtbMql",
        "outputId": "1fd553ea-fe0b-44b6-caac-7c1602e899c2"
      },
      "source": [
        "weights.sort_values(ascending=False).head(8).plot.bar()"
      ],
      "execution_count": null,
      "outputs": [
        {
          "output_type": "execute_result",
          "data": {
            "text/plain": [
              "<matplotlib.axes._subplots.AxesSubplot at 0x7fe575b656d0>"
            ]
          },
          "metadata": {
            "tags": []
          },
          "execution_count": 16
        },
        {
          "output_type": "stream",
          "text": [
            "findfont: Font family ['sans-serif'] not found. Falling back to DejaVu Sans.\n"
          ],
          "name": "stderr"
        },
        {
          "output_type": "display_data",
          "data": {
            "image/png": "[encoded data removed]",
            "text/plain": [
              "<Figure size 432x288 with 1 Axes>"
            ]
          },
          "metadata": {
            "tags": [],
            "needs_background": "light"
          }
        }
      ]
    },
    {
      "cell_type": "markdown",
      "metadata": {
        "id": "jHjZKTh2bMqn"
      },
      "source": [
        "Contrast this to the results of a regression. Because the model is in fact very true (i.e. we really did construct the manager's returns out of the building blocks), the results are remarkably accurate. However, the negative coefficients are hard to intepret and in real-life data, those will be much larger. However when it works well, such as in this artificial example here, the results can be very accurate."
      ]
    },
    {
      "cell_type": "code",
      "metadata": {
        "colab": {
          "base_uri": "https://localhost:8080/"
        },
        "id": "dmqMhkLIbMqo",
        "outputId": "2eaae57d-165c-4b15-d1bd-bfc9be4c718c"
      },
      "source": [
        "m = erk.regress(mgr_r, ind)\n",
        "coeffs = m.params*100\n",
        "coeffs.sort_values().head()"
      ],
      "execution_count": null,
      "outputs": [
        {
          "output_type": "execute_result",
          "data": {
            "text/plain": [
              "FabPr   -4.197333\n",
              "Trans   -2.795083\n",
              "Rtail   -2.466207\n",
              "Util    -1.934470\n",
              "Food    -1.816017\n",
              "dtype: float64"
            ]
          },
          "metadata": {
            "tags": []
          },
          "execution_count": 17
        }
      ]
    },
    {
      "cell_type": "code",
      "metadata": {
        "colab": {
          "base_uri": "https://localhost:8080/",
          "height": 969
        },
        "id": "eEAUHaOhvanD",
        "outputId": "04774400-aff3-41a7-da67-3a0a41a97f24"
      },
      "source": [
        "m.summary2()"
      ],
      "execution_count": null,
      "outputs": [
        {
          "output_type": "execute_result",
          "data": {
            "text/html": [
              "<table class=\"simpletable\">\n",
              "<tr>\n",
              "        <td>Model:</td>               <td>OLS</td>         <td>Adj. R-squared:</td>      <td>0.956</td>  \n",
              "</tr>\n",
              "<tr>\n",
              "  <td>Dependent Variable:</td>         <td>y</td>               <td>AIC:</td>         <td>-1508.0411</td>\n",
              "</tr>\n",
              "<tr>\n",
              "         <td>Date:</td>        <td>2021-03-20 14:11</td>        <td>BIC:</td>         <td>-1401.7313</td>\n",
              "</tr>\n",
              "<tr>\n",
              "   <td>No. Observations:</td>         <td>228</td>         <td>Log-Likelihood:</td>     <td>785.02</td>  \n",
              "</tr>\n",
              "<tr>\n",
              "       <td>Df Model:</td>             <td>30</td>           <td>F-statistic:</td>        <td>165.6</td>  \n",
              "</tr>\n",
              "<tr>\n",
              "     <td>Df Residuals:</td>           <td>197</td>       <td>Prob (F-statistic):</td>  <td>2.76e-123</td>\n",
              "</tr>\n",
              "<tr>\n",
              "      <td>R-squared:</td>            <td>0.962</td>            <td>Scale:</td>        <td>6.9244e-05</td>\n",
              "</tr>\n",
              "</table>\n",
              "<table class=\"simpletable\">\n",
              "<tr>\n",
              "    <td></td>     <th>Coef.</th>  <th>Std.Err.</th>    <th>t</th>     <th>P>|t|</th> <th>[0.025</th>  <th>0.975]</th>\n",
              "</tr>\n",
              "<tr>\n",
              "  <th>Food</th>  <td>-0.0182</td>  <td>0.0300</td>  <td>-0.6055</td> <td>0.5456</td> <td>-0.0773</td> <td>0.0410</td>\n",
              "</tr>\n",
              "<tr>\n",
              "  <th>Beer</th>  <td>0.2904</td>   <td>0.0218</td>  <td>13.3223</td> <td>0.0000</td> <td>0.2474</td>  <td>0.3334</td>\n",
              "</tr>\n",
              "<tr>\n",
              "  <th>Smoke</th> <td>0.5050</td>   <td>0.0113</td>  <td>44.6817</td> <td>0.0000</td> <td>0.4827</td>  <td>0.5273</td>\n",
              "</tr>\n",
              "<tr>\n",
              "  <th>Games</th> <td>-0.0109</td>  <td>0.0159</td>  <td>-0.6848</td> <td>0.4943</td> <td>-0.0423</td> <td>0.0205</td>\n",
              "</tr>\n",
              "<tr>\n",
              "  <th>Books</th> <td>0.0102</td>   <td>0.0200</td>  <td>0.5087</td>  <td>0.6115</td> <td>-0.0293</td> <td>0.0496</td>\n",
              "</tr>\n",
              "<tr>\n",
              "  <th>Hshld</th> <td>-0.0164</td>  <td>0.0237</td>  <td>-0.6917</td> <td>0.4900</td> <td>-0.0631</td> <td>0.0303</td>\n",
              "</tr>\n",
              "<tr>\n",
              "  <th>Clths</th> <td>0.0009</td>   <td>0.0182</td>  <td>0.0487</td>  <td>0.9612</td> <td>-0.0349</td> <td>0.0367</td>\n",
              "</tr>\n",
              "<tr>\n",
              "  <th>Hlth</th>  <td>0.0002</td>   <td>0.0227</td>  <td>0.0080</td>  <td>0.9936</td> <td>-0.0446</td> <td>0.0449</td>\n",
              "</tr>\n",
              "<tr>\n",
              "  <th>Chems</th> <td>0.0315</td>   <td>0.0250</td>  <td>1.2592</td>  <td>0.2094</td> <td>-0.0178</td> <td>0.0808</td>\n",
              "</tr>\n",
              "<tr>\n",
              "  <th>Txtls</th> <td>0.0021</td>   <td>0.0120</td>  <td>0.1715</td>  <td>0.8640</td> <td>-0.0217</td> <td>0.0258</td>\n",
              "</tr>\n",
              "<tr>\n",
              "  <th>Cnstr</th> <td>0.0120</td>   <td>0.0217</td>  <td>0.5511</td>  <td>0.5822</td> <td>-0.0308</td> <td>0.0547</td>\n",
              "</tr>\n",
              "<tr>\n",
              "  <th>Steel</th> <td>-0.0042</td>  <td>0.0152</td>  <td>-0.2778</td> <td>0.7814</td> <td>-0.0342</td> <td>0.0258</td>\n",
              "</tr>\n",
              "<tr>\n",
              "  <th>FabPr</th> <td>-0.0420</td>  <td>0.0284</td>  <td>-1.4775</td> <td>0.1412</td> <td>-0.0980</td> <td>0.0141</td>\n",
              "</tr>\n",
              "<tr>\n",
              "  <th>ElcEq</th> <td>0.0363</td>   <td>0.0243</td>  <td>1.4910</td>  <td>0.1376</td> <td>-0.0117</td> <td>0.0843</td>\n",
              "</tr>\n",
              "<tr>\n",
              "  <th>Autos</th> <td>-0.0012</td>  <td>0.0135</td>  <td>-0.0885</td> <td>0.9296</td> <td>-0.0278</td> <td>0.0254</td>\n",
              "</tr>\n",
              "<tr>\n",
              "  <th>Carry</th> <td>0.0253</td>   <td>0.0175</td>  <td>1.4468</td>  <td>0.1495</td> <td>-0.0092</td> <td>0.0599</td>\n",
              "</tr>\n",
              "<tr>\n",
              "  <th>Mines</th> <td>-0.0032</td>  <td>0.0116</td>  <td>-0.2778</td> <td>0.7815</td> <td>-0.0262</td> <td>0.0197</td>\n",
              "</tr>\n",
              "<tr>\n",
              "  <th>Coal</th>  <td>0.0068</td>   <td>0.0064</td>  <td>1.0556</td>  <td>0.2924</td> <td>-0.0059</td> <td>0.0194</td>\n",
              "</tr>\n",
              "<tr>\n",
              "  <th>Oil</th>   <td>-0.0152</td>  <td>0.0172</td>  <td>-0.8847</td> <td>0.3774</td> <td>-0.0491</td> <td>0.0187</td>\n",
              "</tr>\n",
              "<tr>\n",
              "  <th>Util</th>  <td>-0.0193</td>  <td>0.0195</td>  <td>-0.9932</td> <td>0.3218</td> <td>-0.0578</td> <td>0.0191</td>\n",
              "</tr>\n",
              "<tr>\n",
              "  <th>Telcm</th> <td>-0.0068</td>  <td>0.0197</td>  <td>-0.3440</td> <td>0.7312</td> <td>-0.0455</td> <td>0.0320</td>\n",
              "</tr>\n",
              "<tr>\n",
              "  <th>Servs</th> <td>-0.0025</td>  <td>0.0231</td>  <td>-0.1087</td> <td>0.9135</td> <td>-0.0481</td> <td>0.0430</td>\n",
              "</tr>\n",
              "<tr>\n",
              "  <th>BusEq</th> <td>0.0032</td>   <td>0.0178</td>  <td>0.1769</td>  <td>0.8598</td> <td>-0.0320</td> <td>0.0383</td>\n",
              "</tr>\n",
              "<tr>\n",
              "  <th>Paper</th> <td>-0.0178</td>  <td>0.0300</td>  <td>-0.5931</td> <td>0.5538</td> <td>-0.0770</td> <td>0.0414</td>\n",
              "</tr>\n",
              "<tr>\n",
              "  <th>Trans</th> <td>-0.0280</td>  <td>0.0223</td>  <td>-1.2509</td> <td>0.2125</td> <td>-0.0720</td> <td>0.0161</td>\n",
              "</tr>\n",
              "<tr>\n",
              "  <th>Whlsl</th> <td>0.0238</td>   <td>0.0249</td>  <td>0.9538</td>  <td>0.3414</td> <td>-0.0254</td> <td>0.0729</td>\n",
              "</tr>\n",
              "<tr>\n",
              "  <th>Rtail</th> <td>-0.0247</td>  <td>0.0255</td>  <td>-0.9672</td> <td>0.3346</td> <td>-0.0749</td> <td>0.0256</td>\n",
              "</tr>\n",
              "<tr>\n",
              "  <th>Meals</th> <td>0.0193</td>   <td>0.0242</td>  <td>0.7980</td>  <td>0.4259</td> <td>-0.0284</td> <td>0.0671</td>\n",
              "</tr>\n",
              "<tr>\n",
              "  <th>Fin</th>   <td>-0.0103</td>  <td>0.0214</td>  <td>-0.4807</td> <td>0.6312</td> <td>-0.0526</td> <td>0.0320</td>\n",
              "</tr>\n",
              "<tr>\n",
              "  <th>Other</th> <td>0.0074</td>   <td>0.0188</td>  <td>0.3906</td>  <td>0.6965</td> <td>-0.0298</td> <td>0.0445</td>\n",
              "</tr>\n",
              "<tr>\n",
              "  <th>Alpha</th> <td>0.0007</td>   <td>0.0006</td>  <td>1.1985</td>  <td>0.2322</td> <td>-0.0005</td> <td>0.0019</td>\n",
              "</tr>\n",
              "</table>\n",
              "<table class=\"simpletable\">\n",
              "<tr>\n",
              "     <td>Omnibus:</td>     <td>0.358</td>  <td>Durbin-Watson:</td>   <td>1.947</td>\n",
              "</tr>\n",
              "<tr>\n",
              "  <td>Prob(Omnibus):</td>  <td>0.836</td> <td>Jarque-Bera (JB):</td> <td>0.456</td>\n",
              "</tr>\n",
              "<tr>\n",
              "       <td>Skew:</td>     <td>-0.088</td>     <td>Prob(JB):</td>     <td>0.796</td>\n",
              "</tr>\n",
              "<tr>\n",
              "     <td>Kurtosis:</td>    <td>2.868</td>  <td>Condition No.:</td>    <td>69</td>  \n",
              "</tr>\n",
              "</table>"
            ],
            "text/plain": [
              "<class 'statsmodels.iolib.summary2.Summary'>\n",
              "\"\"\"\n",
              "                  Results: Ordinary least squares\n",
              "===================================================================\n",
              "Model:              OLS              Adj. R-squared:     0.956     \n",
              "Dependent Variable: y                AIC:                -1508.0411\n",
              "Date:               2021-03-20 14:11 BIC:                -1401.7313\n",
              "No. Observations:   228              Log-Likelihood:     785.02    \n",
              "Df Model:           30               F-statistic:        165.6     \n",
              "Df Residuals:       197              Prob (F-statistic): 2.76e-123 \n",
              "R-squared:          0.962            Scale:              6.9244e-05\n",
              "----------------------------------------------------------------------\n",
              "          Coef.     Std.Err.       t       P>|t|      [0.025    0.975]\n",
              "----------------------------------------------------------------------\n",
              "Food     -0.0182      0.0300    -0.6055    0.5456    -0.0773    0.0410\n",
              "Beer      0.2904      0.0218    13.3223    0.0000     0.2474    0.3334\n",
              "Smoke     0.5050      0.0113    44.6817    0.0000     0.4827    0.5273\n",
              "Games    -0.0109      0.0159    -0.6848    0.4943    -0.0423    0.0205\n",
              "Books     0.0102      0.0200     0.5087    0.6115    -0.0293    0.0496\n",
              "Hshld    -0.0164      0.0237    -0.6917    0.4900    -0.0631    0.0303\n",
              "Clths     0.0009      0.0182     0.0487    0.9612    -0.0349    0.0367\n",
              "Hlth      0.0002      0.0227     0.0080    0.9936    -0.0446    0.0449\n",
              "Chems     0.0315      0.0250     1.2592    0.2094    -0.0178    0.0808\n",
              "Txtls     0.0021      0.0120     0.1715    0.8640    -0.0217    0.0258\n",
              "Cnstr     0.0120      0.0217     0.5511    0.5822    -0.0308    0.0547\n",
              "Steel    -0.0042      0.0152    -0.2778    0.7814    -0.0342    0.0258\n",
              "FabPr    -0.0420      0.0284    -1.4775    0.1412    -0.0980    0.0141\n",
              "ElcEq     0.0363      0.0243     1.4910    0.1376    -0.0117    0.0843\n",
              "Autos    -0.0012      0.0135    -0.0885    0.9296    -0.0278    0.0254\n",
              "Carry     0.0253      0.0175     1.4468    0.1495    -0.0092    0.0599\n",
              "Mines    -0.0032      0.0116    -0.2778    0.7815    -0.0262    0.0197\n",
              "Coal      0.0068      0.0064     1.0556    0.2924    -0.0059    0.0194\n",
              "Oil      -0.0152      0.0172    -0.8847    0.3774    -0.0491    0.0187\n",
              "Util     -0.0193      0.0195    -0.9932    0.3218    -0.0578    0.0191\n",
              "Telcm    -0.0068      0.0197    -0.3440    0.7312    -0.0455    0.0320\n",
              "Servs    -0.0025      0.0231    -0.1087    0.9135    -0.0481    0.0430\n",
              "BusEq     0.0032      0.0178     0.1769    0.8598    -0.0320    0.0383\n",
              "Paper    -0.0178      0.0300    -0.5931    0.5538    -0.0770    0.0414\n",
              "Trans    -0.0280      0.0223    -1.2509    0.2125    -0.0720    0.0161\n",
              "Whlsl     0.0238      0.0249     0.9538    0.3414    -0.0254    0.0729\n",
              "Rtail    -0.0247      0.0255    -0.9672    0.3346    -0.0749    0.0256\n",
              "Meals     0.0193      0.0242     0.7980    0.4259    -0.0284    0.0671\n",
              "Fin      -0.0103      0.0214    -0.4807    0.6312    -0.0526    0.0320\n",
              "Other     0.0074      0.0188     0.3906    0.6965    -0.0298    0.0445\n",
              "Alpha     0.0007      0.0006     1.1985    0.2322    -0.0005    0.0019\n",
              "-------------------------------------------------------------------\n",
              "Omnibus:               0.358         Durbin-Watson:           1.947\n",
              "Prob(Omnibus):         0.836         Jarque-Bera (JB):        0.456\n",
              "Skew:                  -0.088        Prob(JB):                0.796\n",
              "Kurtosis:              2.868         Condition No.:           69   \n",
              "===================================================================\n",
              "\n",
              "\"\"\""
            ]
          },
          "metadata": {
            "tags": []
          },
          "execution_count": 18
        }
      ]
    },
    {
      "cell_type": "markdown",
      "metadata": {
        "id": "XUdJHSJCbMqp"
      },
      "source": [
        "Negative 4.5% in Household?"
      ]
    },
    {
      "cell_type": "code",
      "metadata": {
        "colab": {
          "base_uri": "https://localhost:8080/",
          "height": 309
        },
        "id": "zQfiejG6bMqp",
        "outputId": "752ec3ea-d593-4284-8e1e-e48ae163c7a1"
      },
      "source": [
        "coeffs.sort_values(ascending=False).head(6).plot.bar()"
      ],
      "execution_count": null,
      "outputs": [
        {
          "output_type": "execute_result",
          "data": {
            "text/plain": [
              "<matplotlib.axes._subplots.AxesSubplot at 0x7fe575a80190>"
            ]
          },
          "metadata": {
            "tags": []
          },
          "execution_count": 19
        },
        {
          "output_type": "display_data",
          "data": {
            "image/png": "[encoded data removed]",
            "text/plain": [
              "<Figure size 432x288 with 1 Axes>"
            ]
          },
          "metadata": {
            "tags": [],
            "needs_background": "light"
          }
        }
      ]
    },
    {
      "cell_type": "markdown",
      "metadata": {
        "id": "SobsrEmVbMqq"
      },
      "source": [
        "## Style Drift: Time Varying Exposures using Style Anaylsis\n",
        "\n",
        "One of the most common ways in which Sharpe Style Analysis can be used is to measure style drift. If you run the style analysis function over a rolling window of 1 to 5 years, you can extract changes in the style exposures of a manager.\n",
        "\n",
        "We'll look at Rolling Windows in the next lab session.\n",
        "\n",
        "As an exercise to the student, download a set of returns from Yahoo Finance, and try and measure the style drift in your favorite fund manager. Use reliable Value and Growth ETFs such as \"SPYG\" and \"SPYV\" along with a SmallCap ETF such as \"SLY\" and LargeCap ETF such as \"OEF\".\n",
        "\n",
        "Alternately, the Fama-French research factors and use the Top and Bottom portfolios by Value (HML) and Size (SMB) to categorize mutual funds into categories. This is very similar to the \"Style Box\" methodology employed by Morningstar and displayed on their website. Compare your results with their results to see if they agree!"
      ]
    },
    {
      "cell_type": "code",
      "metadata": {
        "id": "_QQ2OmMdVJgy"
      },
      "source": [
        "!pip install -q akshare"
      ],
      "execution_count": null,
      "outputs": []
    },
    {
      "cell_type": "markdown",
      "metadata": {
        "id": "4MhEhHPwVus5"
      },
      "source": [
        "# A股数据分析\n",
        "\n",
        "- 选取沪深300作为目标指数，申万一级行业指数作为解释变量分析风格\n",
        "- 用A股法玛三因子数据分析公募基金风格\n",
        "- 沪深300ETF的追踪误差"
      ]
    },
    {
      "cell_type": "code",
      "metadata": {
        "id": "tdLgc__UVbKE"
      },
      "source": [
        "%reload_ext google.colab.data_table\n",
        "\n",
        "import akshare as ak\n",
        "import datetime as dt"
      ],
      "execution_count": null,
      "outputs": []
    },
    {
      "cell_type": "code",
      "metadata": {
        "id": "U2Xs0Ti__gwg"
      },
      "source": [
        "def get_sh300_returns():\n",
        "    \"\"\"\n",
        "    获取沪深300指数历史月收益数据2005年1月开始到当前日期\n",
        "    \"\"\"\n",
        "    sh300 = ak.stock_zh_index_daily_em('sh000300')\n",
        "    sh300_rets = sh300.set_index('date')['close']\n",
        "    sh300_rets.index = pd.to_datetime(sh300_rets.index, format='%Y-%m-%d')\n",
        "    sh300_rets = sh300_rets.pct_change().dropna()\n",
        "    sh300_rets = sh300_rets.resample('M').apply(erk.compound).to_period('M')\n",
        "    return sh300_rets"
      ],
      "execution_count": null,
      "outputs": []
    },
    {
      "cell_type": "code",
      "metadata": {
        "colab": {
          "base_uri": "https://localhost:8080/",
          "height": 353
        },
        "id": "vxJgCtwfBYnT",
        "outputId": "f678d82e-5e80-46c3-e5ee-c97abd5495f2"
      },
      "source": [
        "sh300_rets = get_sh300_returns().loc[\"2014\":]\n",
        "(sh300_rets + 1).cumprod().plot(figsize=(12, 5))"
      ],
      "execution_count": null,
      "outputs": [
        {
          "output_type": "execute_result",
          "data": {
            "text/plain": [
              "<matplotlib.axes._subplots.AxesSubplot at 0x7fe56ca1a490>"
            ]
          },
          "metadata": {
            "tags": []
          },
          "execution_count": 23
        },
        {
          "output_type": "display_data",
          "data": {
            "image/png": "[encoded data removed]",
            "text/plain": [
              "<Figure size 864x360 with 1 Axes>"
            ]
          },
          "metadata": {
            "tags": [],
            "needs_background": "light"
          }
        }
      ]
    },
    {
      "cell_type": "code",
      "metadata": {
        "id": "G-PzaITQZwfR"
      },
      "source": [
        "def get_swl1_returns(start_date='2014-01-01', end_date=None):\n",
        "    \"\"\"\n",
        "    获取申万以及行业指数月收益\n",
        "    \"\"\"\n",
        "    if not end_date:\n",
        "        end_date = dt.date.today()\n",
        "\n",
        "    def get_ind_history(code):\n",
        "        \"\"\"获取指数历史收益\"\"\"\n",
        "        ind_rets = ak.sw_index_daily_indicator(index_code=code, \n",
        "                                               start_date=start_date, \n",
        "                                               end_date=end_date, \n",
        "                                               data_type=\"Week\")\n",
        "        ind_rets = pd.to_numeric(ind_rets.set_index('date')['close'])\n",
        "        ind_rets = ind_rets.sort_index()\n",
        "        ind_rets = ind_rets.pct_change().dropna()\n",
        "        ind_rets = ind_rets.resample('M').apply(erk.compound).to_period('M')\n",
        "        return ind_rets\n",
        "        \n",
        "    swl1_index = ak.sw_index_spot()\n",
        "    rets = swl1_index['指数代码'].apply(lambda code: get_ind_history(code))\n",
        "    rets = rets.T\n",
        "    rets.columns = swl1_index['指数名称'].to_list()\n",
        "    return rets"
      ],
      "execution_count": null,
      "outputs": []
    },
    {
      "cell_type": "code",
      "metadata": {
        "id": "3QxROgfCbavX"
      },
      "source": [
        "rets = get_swl1_returns(start_date='2014-01-01')"
      ],
      "execution_count": null,
      "outputs": []
    },
    {
      "cell_type": "code",
      "metadata": {
        "colab": {
          "base_uri": "https://localhost:8080/"
        },
        "id": "CnqFZHFTr1eL",
        "outputId": "bd5a8c28-0b73-4c20-f4cd-3831030d2441"
      },
      "source": [
        "!pip install -q pyplotz"
      ],
      "execution_count": null,
      "outputs": [
        {
          "output_type": "stream",
          "text": [
            "  Building wheel for pyplotz (setup.py) ... \u001b[?25l\u001b[?25hdone\n"
          ],
          "name": "stdout"
        }
      ]
    },
    {
      "cell_type": "code",
      "metadata": {
        "colab": {
          "base_uri": "https://localhost:8080/"
        },
        "id": "RR8CxZ3irzGd",
        "outputId": "6185ecbd-06f6-40c6-c942-f94bdfcee54d"
      },
      "source": [
        "from pyplotz.pyplotz import PyplotZ\n",
        "pltz = PyplotZ()\n",
        "pltz.enable_chinese()"
      ],
      "execution_count": null,
      "outputs": [
        {
          "output_type": "stream",
          "text": [
            "try downloading\n",
            "start downloading default chinese font(only for first time)\n",
            "downloading complete\n",
            "Font installed at the first time\n"
          ],
          "name": "stdout"
        }
      ]
    },
    {
      "cell_type": "code",
      "metadata": {
        "colab": {
          "base_uri": "https://localhost:8080/",
          "height": 334
        },
        "id": "cDzGka2ToWxR",
        "outputId": "7ae9f788-ae88-4584-cc70-93f4918e382f"
      },
      "source": [
        "ax = (rets.dropna()[['农林牧渔', '有色金属', '钢铁', '食品饮料', '银行']] + 1).cumprod().plot(figsize=(12, 5))\n",
        "pltz.legend()\n",
        "pltz.show()"
      ],
      "execution_count": null,
      "outputs": [
        {
          "output_type": "display_data",
          "data": {
            "image/png": "[encoded data removed]",
            "text/plain": [
              "<Figure size 864x360 with 1 Axes>"
            ]
          },
          "metadata": {
            "tags": [],
            "needs_background": "light"
          }
        }
      ]
    },
    {
      "cell_type": "code",
      "metadata": {
        "colab": {
          "base_uri": "https://localhost:8080/",
          "height": 345
        },
        "id": "vl-M9v_NzJ35",
        "outputId": "f3d94880-7aba-4df9-e4cd-39a062cce7a6"
      },
      "source": [
        "weights_b = erk.style_analysis(sh300_rets, rets)\n",
        "(weights_b.sort_values(ascending=False).head(10).round(4)*100).plot.bar(figsize=(10, 5))\n",
        "pltz.xticks(rotation=45)"
      ],
      "execution_count": null,
      "outputs": [
        {
          "output_type": "display_data",
          "data": {
            "image/png": "[encoded data removed]",
            "text/plain": [
              "<Figure size 720x360 with 1 Axes>"
            ]
          },
          "metadata": {
            "tags": [],
            "needs_background": "light"
          }
        }
      ]
    },
    {
      "cell_type": "code",
      "metadata": {
        "id": "gQvjLDrDEIfA"
      },
      "source": [
        "def get_cn_fff_returns():\n",
        "    \"\"\"\n",
        "    获取中国证券市场3因数模型\n",
        "    \"\"\"\n",
        "    cn_fff = pd.read_csv('data/factor_monthly/fivefactor_monthly.csv',\n",
        "                         header=0, index_col=0)\n",
        "    cn_fff.index = pd.to_datetime(cn_fff.index, format='%Y%m').to_period('M')\n",
        "    return cn_fff[['mkt_rf', 'smb', 'hml', 'rf']]"
      ],
      "execution_count": null,
      "outputs": []
    },
    {
      "cell_type": "code",
      "metadata": {
        "colab": {
          "base_uri": "https://localhost:8080/",
          "height": 509
        },
        "id": "Mdbkl6N-GHSj",
        "outputId": "437bd755-f936-4bc9-a3f7-3b3f3c3a1db4"
      },
      "source": [
        "cn_fff = get_cn_fff_returns()['2014':]\n",
        "m = erk.regress((sh300_rets - cn_fff['rf']), cn_fff[['mkt_rf', 'hml', 'smb']])\n",
        "m.summary()"
      ],
      "execution_count": null,
      "outputs": [
        {
          "output_type": "execute_result",
          "data": {
            "text/html": [
              "<table class=\"simpletable\">\n",
              "<caption>OLS Regression Results</caption>\n",
              "<tr>\n",
              "  <th>Dep. Variable:</th>            <td>y</td>        <th>  R-squared:         </th> <td>   0.928</td>\n",
              "</tr>\n",
              "<tr>\n",
              "  <th>Model:</th>                   <td>OLS</td>       <th>  Adj. R-squared:    </th> <td>   0.926</td>\n",
              "</tr>\n",
              "<tr>\n",
              "  <th>Method:</th>             <td>Least Squares</td>  <th>  F-statistic:       </th> <td>   359.2</td>\n",
              "</tr>\n",
              "<tr>\n",
              "  <th>Date:</th>             <td>Sat, 20 Mar 2021</td> <th>  Prob (F-statistic):</th> <td>2.02e-47</td>\n",
              "</tr>\n",
              "<tr>\n",
              "  <th>Time:</th>                 <td>14:14:22</td>     <th>  Log-Likelihood:    </th> <td>  227.39</td>\n",
              "</tr>\n",
              "<tr>\n",
              "  <th>No. Observations:</th>      <td>    87</td>      <th>  AIC:               </th> <td>  -446.8</td>\n",
              "</tr>\n",
              "<tr>\n",
              "  <th>Df Residuals:</th>          <td>    83</td>      <th>  BIC:               </th> <td>  -436.9</td>\n",
              "</tr>\n",
              "<tr>\n",
              "  <th>Df Model:</th>              <td>     3</td>      <th>                     </th>     <td> </td>   \n",
              "</tr>\n",
              "<tr>\n",
              "  <th>Covariance Type:</th>      <td>nonrobust</td>    <th>                     </th>     <td> </td>   \n",
              "</tr>\n",
              "</table>\n",
              "<table class=\"simpletable\">\n",
              "<tr>\n",
              "     <td></td>       <th>coef</th>     <th>std err</th>      <th>t</th>      <th>P>|t|</th>  <th>[0.025</th>    <th>0.975]</th>  \n",
              "</tr>\n",
              "<tr>\n",
              "  <th>mkt_rf</th> <td>    0.9699</td> <td>    0.030</td> <td>   32.694</td> <td> 0.000</td> <td>    0.911</td> <td>    1.029</td>\n",
              "</tr>\n",
              "<tr>\n",
              "  <th>hml</th>    <td>    0.2383</td> <td>    0.051</td> <td>    4.693</td> <td> 0.000</td> <td>    0.137</td> <td>    0.339</td>\n",
              "</tr>\n",
              "<tr>\n",
              "  <th>smb</th>    <td>   -0.4087</td> <td>    0.050</td> <td>   -8.146</td> <td> 0.000</td> <td>   -0.509</td> <td>   -0.309</td>\n",
              "</tr>\n",
              "<tr>\n",
              "  <th>Alpha</th>  <td>    0.0014</td> <td>    0.002</td> <td>    0.732</td> <td> 0.466</td> <td>   -0.002</td> <td>    0.005</td>\n",
              "</tr>\n",
              "</table>\n",
              "<table class=\"simpletable\">\n",
              "<tr>\n",
              "  <th>Omnibus:</th>       <td> 9.495</td> <th>  Durbin-Watson:     </th> <td>   1.922</td>\n",
              "</tr>\n",
              "<tr>\n",
              "  <th>Prob(Omnibus):</th> <td> 0.009</td> <th>  Jarque-Bera (JB):  </th> <td>  13.448</td>\n",
              "</tr>\n",
              "<tr>\n",
              "  <th>Skew:</th>          <td> 0.459</td> <th>  Prob(JB):          </th> <td> 0.00120</td>\n",
              "</tr>\n",
              "<tr>\n",
              "  <th>Kurtosis:</th>      <td> 4.693</td> <th>  Cond. No.          </th> <td>    31.2</td>\n",
              "</tr>\n",
              "</table><br/><br/>Warnings:<br/>[1] Standard Errors assume that the covariance matrix of the errors is correctly specified."
            ],
            "text/plain": [
              "<class 'statsmodels.iolib.summary.Summary'>\n",
              "\"\"\"\n",
              "                            OLS Regression Results                            \n",
              "==============================================================================\n",
              "Dep. Variable:                      y   R-squared:                       0.928\n",
              "Model:                            OLS   Adj. R-squared:                  0.926\n",
              "Method:                 Least Squares   F-statistic:                     359.2\n",
              "Date:                Sat, 20 Mar 2021   Prob (F-statistic):           2.02e-47\n",
              "Time:                        14:14:22   Log-Likelihood:                 227.39\n",
              "No. Observations:                  87   AIC:                            -446.8\n",
              "Df Residuals:                      83   BIC:                            -436.9\n",
              "Df Model:                           3                                         \n",
              "Covariance Type:            nonrobust                                         \n",
              "==============================================================================\n",
              "                 coef    std err          t      P>|t|      [0.025      0.975]\n",
              "------------------------------------------------------------------------------\n",
              "mkt_rf         0.9699      0.030     32.694      0.000       0.911       1.029\n",
              "hml            0.2383      0.051      4.693      0.000       0.137       0.339\n",
              "smb           -0.4087      0.050     -8.146      0.000      -0.509      -0.309\n",
              "Alpha          0.0014      0.002      0.732      0.466      -0.002       0.005\n",
              "==============================================================================\n",
              "Omnibus:                        9.495   Durbin-Watson:                   1.922\n",
              "Prob(Omnibus):                  0.009   Jarque-Bera (JB):               13.448\n",
              "Skew:                           0.459   Prob(JB):                      0.00120\n",
              "Kurtosis:                       4.693   Cond. No.                         31.2\n",
              "==============================================================================\n",
              "\n",
              "Warnings:\n",
              "[1] Standard Errors assume that the covariance matrix of the errors is correctly specified.\n",
              "\"\"\""
            ]
          },
          "metadata": {
            "tags": []
          },
          "execution_count": 32
        }
      ]
    },
    {
      "cell_type": "code",
      "metadata": {
        "id": "MyHGsUHLzv0y"
      },
      "source": [
        "def get_fund_returns(fund):\n",
        "    \"\"\"\n",
        "    获取公募基金净值回报率\n",
        "    \"\"\"\n",
        "    fund_rets = ak.fund_em_etf_fund_info(fund=fund)\n",
        "    fund_rets['date'] = pd.to_datetime(fund_rets['净值日期'])\n",
        "    fund_rets['return'] = pd.to_numeric(fund_rets['日增长率']) / 100\n",
        "    fund_rets = fund_rets.dropna()\n",
        "    fund_rets = fund_rets.set_index('date')\n",
        "    fund_rets = fund_rets['return'] \n",
        "    return fund_rets.resample('M').apply(erk.compound).to_period('M')\n"
      ],
      "execution_count": null,
      "outputs": []
    },
    {
      "cell_type": "code",
      "metadata": {
        "colab": {
          "base_uri": "https://localhost:8080/",
          "height": 353
        },
        "id": "NCXnRqQwDH7K",
        "outputId": "57fcafb0-bda4-4cf7-fac9-85670f2a53a4"
      },
      "source": [
        "fund_300etf_rets = get_fund_returns('510300')\n",
        "ax = (fund_300etf_rets + 1).cumprod().plot(figsize=(12, 5))\n",
        "(sh300_rets + 1).cumprod().plot(ax=ax)"
      ],
      "execution_count": null,
      "outputs": [
        {
          "output_type": "execute_result",
          "data": {
            "text/plain": [
              "<matplotlib.axes._subplots.AxesSubplot at 0x7fe56c34b590>"
            ]
          },
          "metadata": {
            "tags": []
          },
          "execution_count": 61
        },
        {
          "output_type": "display_data",
          "data": {
            "image/png": "[encoded data removed]",
            "text/plain": [
              "<Figure size 864x360 with 1 Axes>"
            ]
          },
          "metadata": {
            "tags": [],
            "needs_background": "light"
          }
        }
      ]
    },
    {
      "cell_type": "code",
      "metadata": {
        "colab": {
          "base_uri": "https://localhost:8080/"
        },
        "id": "AIb8iIAnF35t",
        "outputId": "dd3fa4be-dc86-486d-bc18-77bb6b0f3eac"
      },
      "source": [
        "(fund_300etf_rets - sh300_rets).dropna().std()"
      ],
      "execution_count": null,
      "outputs": [
        {
          "output_type": "execute_result",
          "data": {
            "text/plain": [
              "0.003173310323343319"
            ]
          },
          "metadata": {
            "tags": []
          },
          "execution_count": 64
        }
      ]
    },
    {
      "cell_type": "markdown",
      "metadata": {
        "id": "9TDuJG8YbMqq"
      },
      "source": [
        "# Warning: Potential Misuse of Style Analysis\n",
        "\n",
        "Style Analysis works best when the explanatory indices are in fact a good specification of what is happening. For instance, it usually gives you very useful and revealing insight if you use a stock market index (such as SPY) and other broad indices, ETFs or mutual funds (such as a Value Fund, a Growth Fund, an International Fund, a Bond Fund etc).\n",
        "\n",
        "Part of the skill in extracting meaningful results is to pick the right set of explanatory variables.\n",
        "\n",
        "However, a part of the challenge with Style Analysis is that it will _always_ return a portfolio. Although it is possible to develop a figure of merit of fit quality similar to an $R^2$, it will still always give you an answer, however unreasonable it might be, and it's not always obvious how much one can rely on the result.\n",
        "\n",
        "For instance, we can try and extract the major industries that Buffer invested in since 2000 as follows:"
      ]
    },
    {
      "cell_type": "code",
      "metadata": {
        "colab": {
          "base_uri": "https://localhost:8080/",
          "height": 242
        },
        "id": "G8tpXMK0UhCV",
        "outputId": "9924c3c1-73cf-4e9c-a8fb-07b53b9cf9dd"
      },
      "source": [
        "brka_d = pd.read_csv(\"data/brka_d_ret.csv\", parse_dates=True, index_col=0)\n",
        "brka_m = brka_d.resample('M').apply(erk.compound).to_period('M')\n",
        "brka_m.head()"
      ],
      "execution_count": null,
      "outputs": [
        {
          "output_type": "execute_result",
          "data": {
            "text/html": [
              "<div>\n",
              "<style scoped>\n",
              "    .dataframe tbody tr th:only-of-type {\n",
              "        vertical-align: middle;\n",
              "    }\n",
              "\n",
              "    .dataframe tbody tr th {\n",
              "        vertical-align: top;\n",
              "    }\n",
              "\n",
              "    .dataframe thead th {\n",
              "        text-align: right;\n",
              "    }\n",
              "</style>\n",
              "<table border=\"1\" class=\"dataframe\">\n",
              "  <thead>\n",
              "    <tr style=\"text-align: right;\">\n",
              "      <th></th>\n",
              "      <th>BRKA</th>\n",
              "    </tr>\n",
              "    <tr>\n",
              "      <th>DATE</th>\n",
              "      <th></th>\n",
              "    </tr>\n",
              "  </thead>\n",
              "  <tbody>\n",
              "    <tr>\n",
              "      <th>1990-01</th>\n",
              "      <td>-0.140634</td>\n",
              "    </tr>\n",
              "    <tr>\n",
              "      <th>1990-02</th>\n",
              "      <td>-0.030852</td>\n",
              "    </tr>\n",
              "    <tr>\n",
              "      <th>1990-03</th>\n",
              "      <td>-0.069204</td>\n",
              "    </tr>\n",
              "    <tr>\n",
              "      <th>1990-04</th>\n",
              "      <td>-0.003717</td>\n",
              "    </tr>\n",
              "    <tr>\n",
              "      <th>1990-05</th>\n",
              "      <td>0.067164</td>\n",
              "    </tr>\n",
              "  </tbody>\n",
              "</table>\n",
              "</div>"
            ],
            "text/plain": [
              "             BRKA\n",
              "DATE             \n",
              "1990-01 -0.140634\n",
              "1990-02 -0.030852\n",
              "1990-03 -0.069204\n",
              "1990-04 -0.003717\n",
              "1990-05  0.067164"
            ]
          },
          "metadata": {
            "tags": []
          },
          "execution_count": 12
        }
      ]
    },
    {
      "cell_type": "code",
      "metadata": {
        "id": "srKms-GLbMqr",
        "colab": {
          "base_uri": "https://localhost:8080/"
        },
        "outputId": "05734f07-8f35-4b95-c0c5-c28d5f60d7c1"
      },
      "source": [
        "mgr_r_b = brka_m[\"2000\":][\"BRKA\"]\n",
        "weights_b = erk.style_analysis(mgr_r_b, ind)\n",
        "weights_b.sort_values(ascending=False).head(6).round(4)*100"
      ],
      "execution_count": null,
      "outputs": [
        {
          "output_type": "execute_result",
          "data": {
            "text/plain": [
              "Food     41.35\n",
              "Fin      17.61\n",
              "Meals    12.11\n",
              "Other    11.03\n",
              "Util      7.19\n",
              "Clths     5.99\n",
              "dtype: float64"
            ]
          },
          "metadata": {
            "tags": []
          },
          "execution_count": 13
        }
      ]
    },
    {
      "cell_type": "markdown",
      "metadata": {
        "id": "FbYLdO58bMqs"
      },
      "source": [
        "If we want to look at the last decade (2009-2018):"
      ]
    },
    {
      "cell_type": "code",
      "metadata": {
        "id": "sxoO_lhFbMqs",
        "colab": {
          "base_uri": "https://localhost:8080/"
        },
        "outputId": "91a20c20-7286-421a-fd82-e710bf7e4c55"
      },
      "source": [
        "brk2009 = brka_m[\"2009\":][\"BRKA\"]\n",
        "ind2009 = ind[\"2009\":]\n",
        "erk.style_analysis(brk2009, ind2009).sort_values(ascending=False).head(6).round(4)*100"
      ],
      "execution_count": null,
      "outputs": [
        {
          "output_type": "execute_result",
          "data": {
            "text/plain": [
              "Other    43.64\n",
              "Food     28.33\n",
              "Hlth     22.72\n",
              "Rtail     5.25\n",
              "Meals     0.07\n",
              "Fin       0.00\n",
              "dtype: float64"
            ]
          },
          "metadata": {
            "tags": []
          },
          "execution_count": 14
        }
      ]
    },
    {
      "cell_type": "markdown",
      "metadata": {
        "id": "Kpvpqw98bMqz"
      },
      "source": [
        "Should you believe the analysis? Probably not. However, when the specification is in fact accurate (as we saw in the articially generated series) the results can be very revealing"
      ]
    },
    {
      "cell_type": "code",
      "metadata": {
        "id": "vlkoNNtZbMq0"
      },
      "source": [
        ""
      ],
      "execution_count": null,
      "outputs": []
    }
  ]
}